{
 "cells": [
  {
   "cell_type": "code",
   "execution_count": 1,
   "metadata": {},
   "outputs": [],
   "source": [
    "import math"
   ]
  },
  {
   "cell_type": "code",
   "execution_count": 4,
   "metadata": {},
   "outputs": [
    {
     "name": "stdout",
     "output_type": "stream",
     "text": [
      "The mean or average of all these numbers ( [2, 3, 5, 7, 9] ) is 5.2\n"
     ]
    }
   ],
   "source": [
    "numb = [2, 3, 5, 7, 9]\n",
    "no = len(numb)\n",
    "summ = sum(numb)\n",
    "mean = summ / no\n",
    "print(\"The mean or average of all these numbers (\", numb, \") is\", str(mean))"
   ]
  },
  {
   "cell_type": "code",
   "execution_count": 7,
   "metadata": {},
   "outputs": [
    {
     "name": "stdout",
     "output_type": "stream",
     "text": [
      "The median of the given numbers  ( [1, 2, 4, 5, 8, 9] ) is 4.5\n"
     ]
    }
   ],
   "source": [
    "numb = [2, 4, 5, 8, 9,1]\n",
    "no = len(numb)\n",
    "numb.sort()\n",
    "if no % 2 == 0:\n",
    "    median1 = numb[no//2]\n",
    "    median2 = numb[no//2 - 1]\n",
    "    median = (median1 + median2)/2\n",
    "else:\n",
    "    median = numb[no//2]\n",
    "print(\"The median of the given numbers  (\", numb, \") is\", str(median))"
   ]
  },
  {
   "cell_type": "code",
   "execution_count": 6,
   "metadata": {},
   "outputs": [
    {
     "name": "stdout",
     "output_type": "stream",
     "text": [
      "The mode of a number is / are: 2\n"
     ]
    }
   ],
   "source": [
    "from collections import Counter\n",
    "numb = [2, 3, 4, 5, 7, 2]\n",
    "no = len(numb)\n",
    "val = Counter(numb)\n",
    "findMode = dict(val)\n",
    "mode = [i for i, v in findMode.items() if v == max(list(val.values()))]  \n",
    "if len(mode) == no:\n",
    "    findMode = \"The group of number do not have any mode\"\n",
    "else:\n",
    "    findMode = \"The mode of a number is / are: \" + ', '.join(map(str, mode))\n",
    "print(findMode)"
   ]
  },
  {
   "cell_type": "code",
   "execution_count": 23,
   "metadata": {},
   "outputs": [
    {
     "name": "stdout",
     "output_type": "stream",
     "text": [
      "the varience is : 5.0\n"
     ]
    }
   ],
   "source": [
    "numb=[2,3,1,6,7,8,5]\n",
    "n=len(numb)\n",
    "mean=sum(numb)/n\n",
    "var=0\n",
    "for i in numb:\n",
    "    var=var+(i-mean)**2\n",
    "    varience=var//n\n",
    "print(\"the varience is :\",str(varience))"
   ]
  },
  {
   "cell_type": "code",
   "execution_count": 24,
   "metadata": {},
   "outputs": [
    {
     "name": "stdout",
     "output_type": "stream",
     "text": [
      "the standard deviation is : 2.23606797749979\n"
     ]
    }
   ],
   "source": [
    "numb=[2,3,1,6,7,8,5]\n",
    "n=len(numb)\n",
    "mean=sum(numb)/n\n",
    "var=0\n",
    "for i in numb:\n",
    "    var=var+(i-mean)**2\n",
    "    sd=(var//n)**0.5\n",
    "print(\"the standard deviation is :\",str(sd))"
   ]
  },
  {
   "cell_type": "code",
   "execution_count": 19,
   "metadata": {},
   "outputs": [
    {
     "name": "stdout",
     "output_type": "stream",
     "text": [
      "[0.0, 0.125, 0.375, 0.5, 0.875, 1.0]\n"
     ]
    }
   ],
   "source": [
    "def normalization(numb):\n",
    "    mi=min(numb)\n",
    "    ma=max(numb)\n",
    "    nu=[]\n",
    "    for i in numb:\n",
    "        nu.append((i-mi)/(ma-mi))\n",
    "    return nu\n",
    "print(normalization(numb))"
   ]
  },
  {
   "cell_type": "code",
   "execution_count": null,
   "metadata": {},
   "outputs": [],
   "source": []
  }
 ],
 "metadata": {
  "kernelspec": {
   "display_name": "Python 3 (ipykernel)",
   "language": "python",
   "name": "python3"
  },
  "language_info": {
   "codemirror_mode": {
    "name": "ipython",
    "version": 3
   },
   "file_extension": ".py",
   "mimetype": "text/x-python",
   "name": "python",
   "nbconvert_exporter": "python",
   "pygments_lexer": "ipython3",
   "version": "3.7.6"
  }
 },
 "nbformat": 4,
 "nbformat_minor": 4
}
